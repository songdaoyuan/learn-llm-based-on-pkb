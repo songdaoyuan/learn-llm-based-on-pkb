{
 "cells": [
  {
   "cell_type": "markdown",
   "metadata": {},
   "source": [
    "读取知识库的 Markdown 文档并进行数据处理"
   ]
  },
  {
   "cell_type": "code",
   "execution_count": null,
   "metadata": {},
   "outputs": [],
   "source": [
    "# 读取 Markdown 数据\n",
    "\n",
    "r\"\"\"\n",
    "pip install LangChain langchain-community \"unstructured[md]\"\n",
    "\n",
    "在安装完成依赖后, 如果报错 Resource xxx not found, import nltk, nltk.download('xxx')\n",
    "可以将 DataBase 中的 xxx.zip 解压后放置在下面的任一一个目录中\n",
    "\n",
    "venv\\nltk_data'\n",
    "venv\\share\\nltk_data'\n",
    "venv\\lib\\nltk_data\n",
    "\n",
    "这里以 Attempted to load taggers/averaged_perceptron_tagger_eng/ 这个错误提示为例\n",
    "放置完成后的路径如 \\venv\\share\\nltk_data\\taggers\\averaged_perceptron_tagger_eng(一般是解压得到的文件夹名) 所示\n",
    "\"\"\"\n",
    "\n",
    "from langchain.document_loaders.markdown import UnstructuredMarkdownLoader\n",
    "\n",
    "loader = UnstructuredMarkdownLoader(\n",
    "    \"../DataBase/KnowledgeDB/使用fail2ban配置SSH防爆破.md\"\n",
    ")\n",
    "md_pages = loader.load()\n",
    "\n",
    "print(\n",
    "    f\"载入后的变量类型为：{type(md_pages)}，\",\n",
    "    f\"该 Markdown 一共包含 {len(md_pages)} 页\",\n",
    ")\n",
    "\n",
    "md_page = md_pages[0]\n",
    "print(\n",
    "    f\"每一个元素的类型：{type(md_page)}.\",\n",
    "    f\"该文档的描述性数据：{md_page.metadata}\",\n",
    "    # f\"查看该文档的内容:\\n{md_page.page_content[0:][:2000]}\",\n",
    "    sep=\"\\n------\\n\",\n",
    ")"
   ]
  },
  {
   "cell_type": "code",
   "execution_count": null,
   "metadata": {},
   "outputs": [],
   "source": [
    "# 数据清洗\n",
    "\n",
    "import re\n",
    "pattern = re.compile(r'[^\\u4e00-\\u9fff](\\n)[^\\u4e00-\\u9fff]', re.DOTALL)\n",
    "\n",
    "# 使用正则表达式或者replace函数处理读取得到的内容\n",
    "md_page.page_content = md_page.page_content.replace('\\n\\n', '\\n')\n",
    "print(md_page.page_content)"
   ]
  }
 ],
 "metadata": {
  "kernelspec": {
   "display_name": "venv",
   "language": "python",
   "name": "python3"
  },
  "language_info": {
   "codemirror_mode": {
    "name": "ipython",
    "version": 3
   },
   "file_extension": ".py",
   "mimetype": "text/x-python",
   "name": "python",
   "nbconvert_exporter": "python",
   "pygments_lexer": "ipython3",
   "version": "3.8.10"
  }
 },
 "nbformat": 4,
 "nbformat_minor": 2
}
