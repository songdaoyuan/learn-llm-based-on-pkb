{
 "cells": [
  {
   "cell_type": "markdown",
   "metadata": {},
   "source": [
    "使用智谱API进行NLP Embedding 处理"
   ]
  },
  {
   "cell_type": "code",
   "execution_count": null,
   "metadata": {},
   "outputs": [],
   "source": [
    "import os\n",
    "\n",
    "# pip install python-dotenv\n",
    "from dotenv import load_dotenv, find_dotenv\n",
    "\n",
    "\n",
    "# find_dotenv() 寻找并定位 .env 文件的路径\n",
    "# load_dotenv() 读取该 .env 文件，并将其中的环境变量加载到当前的运行环境中\n",
    "# 确保每次读取后的参数能够覆盖旧的值, 保证修改能够生效\n",
    "_ = load_dotenv(find_dotenv(), override=True)"
   ]
  },
  {
   "cell_type": "code",
   "execution_count": null,
   "metadata": {},
   "outputs": [],
   "source": [
    "from zhipuai import ZhipuAI\n",
    "\n",
    "\n",
    "def zhipu_embedding(text: str):\n",
    "\n",
    "    api_key = os.environ[\"ZHIPUAI_API_KEY\"]\n",
    "    client = ZhipuAI(api_key=api_key)\n",
    "    response = client.embeddings.create(\n",
    "        model=\"embedding-2\",\n",
    "        input=text,\n",
    "    )\n",
    "    return response\n",
    "\n",
    "\n",
    "text = \"要生成 embedding 的输入文本，字符串形式。\"\n",
    "response = zhipu_embedding(text=text)\n",
    "\n",
    "print(f\"response类型为：{type(response)}\")\n",
    "print(f\"embedding类型为：{response.object}\")\n",
    "print(f\"生成embedding的model为：{response.model}\")\n",
    "print(f\"生成的embedding长度为：{len(response.data[0].embedding)}\")\n",
    "print(f\"embedding（前10）为: {response.data[0].embedding[:10]}\")"
   ]
  }
 ],
 "metadata": {
  "kernelspec": {
   "display_name": "venv",
   "language": "python",
   "name": "python3"
  },
  "language_info": {
   "codemirror_mode": {
    "name": "ipython",
    "version": 3
   },
   "file_extension": ".py",
   "mimetype": "text/x-python",
   "name": "python",
   "nbconvert_exporter": "python",
   "pygments_lexer": "ipython3",
   "version": "3.8.10"
  }
 },
 "nbformat": 4,
 "nbformat_minor": 2
}
