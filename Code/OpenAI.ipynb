{
 "cells": [
  {
   "cell_type": "code",
   "execution_count": null,
   "metadata": {},
   "outputs": [],
   "source": [
    "import os\n",
    "\n",
    "# pip install python-dotenv\n",
    "from dotenv import load_dotenv, find_dotenv\n",
    "\n",
    "\n",
    "# find_dotenv() 寻找并定位 .env 文件的路径\n",
    "# load_dotenv() 读取该 .env 文件，并将其中的环境变量加载到当前的运行环境中\n",
    "# 确保每次读取后的参数能够覆盖旧的值, 保证修改能够生效\n",
    "_ = load_dotenv(find_dotenv(), override=True)\n",
    "\n",
    "# 配置系统代理\n",
    "# os.environ['HTTPS_PROXY'] = 'http://127.0.0.1:7890'\n",
    "# os.environ[\"HTTP_PROXY\"] = 'http://127.0.0.1:7890'"
   ]
  },
  {
   "cell_type": "code",
   "execution_count": null,
   "metadata": {},
   "outputs": [],
   "source": [
    "\"\"\"\n",
    "使用 kimi 进行单轮对话的 API 示例\n",
    "\"\"\"\n",
    "\n",
    "from openai import OpenAI\n",
    "\n",
    "client = OpenAI(\n",
    "    api_key=os.environ.get(\"KIMI_API_KEY\"),\n",
    "    base_url=os.environ.get(\"BASE_URL\"),\n",
    ")\n",
    "\n",
    "completion = client.chat.completions.create(\n",
    "    # 模型可选：\n",
    "    # moonshot-v1-8k: 它是一个长度为 8k 的模型，适用于生成短文本。\n",
    "    # moonshot-v1-32k: 它是一个长度为 32k 的模型，适用于生成长文本。\n",
    "    # moonshot-v1-128k: 它是一个长度为 128k 的模型，适用于生成超长文本。\n",
    "    model=\"moonshot-v1-8k\",\n",
    "    messages=[\n",
    "        {\n",
    "            \"role\": \"system\",\n",
    "            \"content\": \"你是 Kimi，由 Moonshot AI 提供的人工智能助手，你更擅长中文和英文的对话。你会为用户提供安全，有帮助，准确的回答。同时，你会拒绝一切涉及恐怖主义，种族歧视，黄色暴力等问题的回答。Moonshot AI 为专有名词，不可翻译成其他语言。\",\n",
    "        },\n",
    "        {\"role\": \"user\", \"content\": \"你好，简单介绍下Moonshot\"},\n",
    "    ],\n",
    "    temperature=0.3,\n",
    ")\n",
    "\n",
    "print(completion.choices[0].message.content)"
   ]
  }
 ],
 "metadata": {
  "kernelspec": {
   "display_name": "venv",
   "language": "python",
   "name": "python3"
  },
  "language_info": {
   "codemirror_mode": {
    "name": "ipython",
    "version": 3
   },
   "file_extension": ".py",
   "mimetype": "text/x-python",
   "name": "python",
   "nbconvert_exporter": "python",
   "pygments_lexer": "ipython3",
   "version": "3.9.13"
  }
 },
 "nbformat": 4,
 "nbformat_minor": 2
}
